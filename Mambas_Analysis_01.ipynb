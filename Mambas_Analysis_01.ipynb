{
  "nbformat": 4,
  "nbformat_minor": 0,
  "metadata": {
    "colab": {
      "name": "Mambas Analysis 01.ipynb",
      "provenance": [],
      "collapsed_sections": [],
      "authorship_tag": "ABX9TyNH6PoV+3RUsAemXooKngtI"
    },
    "kernelspec": {
      "name": "python3",
      "display_name": "Python 3"
    },
    "language_info": {
      "name": "python"
    }
  },
  "cells": [
    {
      "cell_type": "code",
      "metadata": {
        "id": "kp1MkDIB1zP5"
      },
      "source": [
        "import pandas as pd\n",
        "import numpy as np\n",
        "import matplotlib.pyplot as plt\n",
        "import seaborn as sns\n",
        "from IPython.core.display import HTML\n"
      ],
      "execution_count": 149,
      "outputs": []
    },
    {
      "cell_type": "code",
      "metadata": {
        "colab": {
          "base_uri": "https://localhost:8080/",
          "height": 34
        },
        "id": "ikoouJj84Vhz",
        "outputId": "20afb4d5-7195-4108-fb7c-03eea5607acc"
      },
      "source": [
        "# adjust jupyter notebook viz\n",
        "def jupyter_settings():\n",
        "    %matplotlib inline\n",
        "    %pylab inline\n",
        "    plt.style.use( 'bmh' )\n",
        "    plt.rcParams['figure.figsize'] = [25, 15]\n",
        "    plt.rcParams['font.size'] = 20\n",
        "    display( HTML( '<style>.container { width:100% !important; }</style>') )\n",
        "    pd.options.display.max_columns = None\n",
        "    pd.options.display.max_rows = None\n",
        "    pd.set_option( 'display.expand_frame_repr', False )\n",
        "    sns.set()\n",
        "    \n",
        "jupyter_settings()"
      ],
      "execution_count": 150,
      "outputs": [
        {
          "output_type": "stream",
          "text": [
            "Populating the interactive namespace from numpy and matplotlib\n"
          ],
          "name": "stdout"
        },
        {
          "output_type": "display_data",
          "data": {
            "text/html": [
              "<style>.container { width:100% !important; }</style>"
            ],
            "text/plain": [
              "<IPython.core.display.HTML object>"
            ]
          },
          "metadata": {
            "tags": []
          }
        }
      ]
    },
    {
      "cell_type": "code",
      "metadata": {
        "id": "MzT67jRT1tMG"
      },
      "source": [
        "link = 'https://raw.githubusercontent.com/franciscofijamo/mambas_analysis/main/results.csv'\n",
        "df = pd.read_csv(link, index_col=0)"
      ],
      "execution_count": 151,
      "outputs": []
    },
    {
      "cell_type": "code",
      "metadata": {
        "colab": {
          "base_uri": "https://localhost:8080/",
          "height": 235
        },
        "id": "4odVrDy416Fa",
        "outputId": "995e06ba-dc0e-45a8-da31-6fc197eddf6b"
      },
      "source": [
        "df.head()"
      ],
      "execution_count": 152,
      "outputs": [
        {
          "output_type": "execute_result",
          "data": {
            "text/html": [
              "<div>\n",
              "<style scoped>\n",
              "    .dataframe tbody tr th:only-of-type {\n",
              "        vertical-align: middle;\n",
              "    }\n",
              "\n",
              "    .dataframe tbody tr th {\n",
              "        vertical-align: top;\n",
              "    }\n",
              "\n",
              "    .dataframe thead th {\n",
              "        text-align: right;\n",
              "    }\n",
              "</style>\n",
              "<table border=\"1\" class=\"dataframe\">\n",
              "  <thead>\n",
              "    <tr style=\"text-align: right;\">\n",
              "      <th></th>\n",
              "      <th>home_team</th>\n",
              "      <th>away_team</th>\n",
              "      <th>home_score</th>\n",
              "      <th>away_score</th>\n",
              "      <th>tournament</th>\n",
              "      <th>city</th>\n",
              "      <th>country</th>\n",
              "      <th>neutral</th>\n",
              "    </tr>\n",
              "    <tr>\n",
              "      <th>date</th>\n",
              "      <th></th>\n",
              "      <th></th>\n",
              "      <th></th>\n",
              "      <th></th>\n",
              "      <th></th>\n",
              "      <th></th>\n",
              "      <th></th>\n",
              "      <th></th>\n",
              "    </tr>\n",
              "  </thead>\n",
              "  <tbody>\n",
              "    <tr>\n",
              "      <th>1872-11-30</th>\n",
              "      <td>Scotland</td>\n",
              "      <td>England</td>\n",
              "      <td>0</td>\n",
              "      <td>0</td>\n",
              "      <td>Friendly</td>\n",
              "      <td>Glasgow</td>\n",
              "      <td>Scotland</td>\n",
              "      <td>False</td>\n",
              "    </tr>\n",
              "    <tr>\n",
              "      <th>1873-03-08</th>\n",
              "      <td>England</td>\n",
              "      <td>Scotland</td>\n",
              "      <td>4</td>\n",
              "      <td>2</td>\n",
              "      <td>Friendly</td>\n",
              "      <td>London</td>\n",
              "      <td>England</td>\n",
              "      <td>False</td>\n",
              "    </tr>\n",
              "    <tr>\n",
              "      <th>1874-03-07</th>\n",
              "      <td>Scotland</td>\n",
              "      <td>England</td>\n",
              "      <td>2</td>\n",
              "      <td>1</td>\n",
              "      <td>Friendly</td>\n",
              "      <td>Glasgow</td>\n",
              "      <td>Scotland</td>\n",
              "      <td>False</td>\n",
              "    </tr>\n",
              "    <tr>\n",
              "      <th>1875-03-06</th>\n",
              "      <td>England</td>\n",
              "      <td>Scotland</td>\n",
              "      <td>2</td>\n",
              "      <td>2</td>\n",
              "      <td>Friendly</td>\n",
              "      <td>London</td>\n",
              "      <td>England</td>\n",
              "      <td>False</td>\n",
              "    </tr>\n",
              "    <tr>\n",
              "      <th>1876-03-04</th>\n",
              "      <td>Scotland</td>\n",
              "      <td>England</td>\n",
              "      <td>3</td>\n",
              "      <td>0</td>\n",
              "      <td>Friendly</td>\n",
              "      <td>Glasgow</td>\n",
              "      <td>Scotland</td>\n",
              "      <td>False</td>\n",
              "    </tr>\n",
              "  </tbody>\n",
              "</table>\n",
              "</div>"
            ],
            "text/plain": [
              "           home_team away_team  home_score  away_score tournament     city   country  neutral\n",
              "date                                                                                         \n",
              "1872-11-30  Scotland   England           0           0   Friendly  Glasgow  Scotland    False\n",
              "1873-03-08   England  Scotland           4           2   Friendly   London   England    False\n",
              "1874-03-07  Scotland   England           2           1   Friendly  Glasgow  Scotland    False\n",
              "1875-03-06   England  Scotland           2           2   Friendly   London   England    False\n",
              "1876-03-04  Scotland   England           3           0   Friendly  Glasgow  Scotland    False"
            ]
          },
          "metadata": {
            "tags": []
          },
          "execution_count": 152
        }
      ]
    },
    {
      "cell_type": "code",
      "metadata": {
        "id": "5rIgdS3Q19jN"
      },
      "source": [
        "df_home = df[df['home_team'] == 'Mozambique'].copy()"
      ],
      "execution_count": 153,
      "outputs": []
    },
    {
      "cell_type": "code",
      "metadata": {
        "id": "tMI8FI_a2ZEB"
      },
      "source": [
        "df_away = df[df['away_team'] == 'Mozambique'].copy()"
      ],
      "execution_count": 154,
      "outputs": []
    },
    {
      "cell_type": "code",
      "metadata": {
        "id": "bqbO4bi72eDU"
      },
      "source": [
        "# Convert to date time\n",
        "\n",
        "# df_home['date'] = pd.to_datetime(df_home['date'])\n",
        "# df_away['date'] = pd.to_datetime(df_away['date'])\n",
        "\n",
        "\n",
        "# "
      ],
      "execution_count": 155,
      "outputs": []
    },
    {
      "cell_type": "code",
      "metadata": {
        "colab": {
          "base_uri": "https://localhost:8080/",
          "height": 235
        },
        "id": "y34HiYfq4kwx",
        "outputId": "d4204dfb-3f6c-4bed-a0ab-0afb12ee00f4"
      },
      "source": [
        "df_home.head()"
      ],
      "execution_count": 156,
      "outputs": [
        {
          "output_type": "execute_result",
          "data": {
            "text/html": [
              "<div>\n",
              "<style scoped>\n",
              "    .dataframe tbody tr th:only-of-type {\n",
              "        vertical-align: middle;\n",
              "    }\n",
              "\n",
              "    .dataframe tbody tr th {\n",
              "        vertical-align: top;\n",
              "    }\n",
              "\n",
              "    .dataframe thead th {\n",
              "        text-align: right;\n",
              "    }\n",
              "</style>\n",
              "<table border=\"1\" class=\"dataframe\">\n",
              "  <thead>\n",
              "    <tr style=\"text-align: right;\">\n",
              "      <th></th>\n",
              "      <th>home_team</th>\n",
              "      <th>away_team</th>\n",
              "      <th>home_score</th>\n",
              "      <th>away_score</th>\n",
              "      <th>tournament</th>\n",
              "      <th>city</th>\n",
              "      <th>country</th>\n",
              "      <th>neutral</th>\n",
              "    </tr>\n",
              "    <tr>\n",
              "      <th>date</th>\n",
              "      <th></th>\n",
              "      <th></th>\n",
              "      <th></th>\n",
              "      <th></th>\n",
              "      <th></th>\n",
              "      <th></th>\n",
              "      <th></th>\n",
              "      <th></th>\n",
              "    </tr>\n",
              "  </thead>\n",
              "  <tbody>\n",
              "    <tr>\n",
              "      <th>1975-06-29</th>\n",
              "      <td>Mozambique</td>\n",
              "      <td>Zambia</td>\n",
              "      <td>2</td>\n",
              "      <td>1</td>\n",
              "      <td>Friendly</td>\n",
              "      <td>Maputo</td>\n",
              "      <td>Mozambique</td>\n",
              "      <td>False</td>\n",
              "    </tr>\n",
              "    <tr>\n",
              "      <th>1975-06-29</th>\n",
              "      <td>Mozambique</td>\n",
              "      <td>Tanzania</td>\n",
              "      <td>2</td>\n",
              "      <td>1</td>\n",
              "      <td>Friendly</td>\n",
              "      <td>Maputo</td>\n",
              "      <td>Mozambique</td>\n",
              "      <td>False</td>\n",
              "    </tr>\n",
              "    <tr>\n",
              "      <th>1977-05-30</th>\n",
              "      <td>Mozambique</td>\n",
              "      <td>Cuba</td>\n",
              "      <td>0</td>\n",
              "      <td>2</td>\n",
              "      <td>Friendly</td>\n",
              "      <td>Maputo</td>\n",
              "      <td>Mozambique</td>\n",
              "      <td>False</td>\n",
              "    </tr>\n",
              "    <tr>\n",
              "      <th>1979-05-19</th>\n",
              "      <td>Mozambique</td>\n",
              "      <td>Zimbabwe</td>\n",
              "      <td>0</td>\n",
              "      <td>6</td>\n",
              "      <td>Friendly</td>\n",
              "      <td>Maputo</td>\n",
              "      <td>Mozambique</td>\n",
              "      <td>False</td>\n",
              "    </tr>\n",
              "    <tr>\n",
              "      <th>1980-04-21</th>\n",
              "      <td>Mozambique</td>\n",
              "      <td>Tanzania</td>\n",
              "      <td>0</td>\n",
              "      <td>2</td>\n",
              "      <td>Friendly</td>\n",
              "      <td>Bulawayo</td>\n",
              "      <td>Zimbabwe</td>\n",
              "      <td>True</td>\n",
              "    </tr>\n",
              "  </tbody>\n",
              "</table>\n",
              "</div>"
            ],
            "text/plain": [
              "             home_team away_team  home_score  away_score tournament      city     country  neutral\n",
              "date                                                                                              \n",
              "1975-06-29  Mozambique    Zambia           2           1   Friendly    Maputo  Mozambique    False\n",
              "1975-06-29  Mozambique  Tanzania           2           1   Friendly    Maputo  Mozambique    False\n",
              "1977-05-30  Mozambique      Cuba           0           2   Friendly    Maputo  Mozambique    False\n",
              "1979-05-19  Mozambique  Zimbabwe           0           6   Friendly    Maputo  Mozambique    False\n",
              "1980-04-21  Mozambique  Tanzania           0           2   Friendly  Bulawayo    Zimbabwe     True"
            ]
          },
          "metadata": {
            "tags": []
          },
          "execution_count": 156
        }
      ]
    },
    {
      "cell_type": "code",
      "metadata": {
        "colab": {
          "base_uri": "https://localhost:8080/"
        },
        "id": "GO1dRkceYOuB",
        "outputId": "b4eb5937-2a7e-451d-b5b0-94b36820613e"
      },
      "source": [
        "df_home.isna().sum()"
      ],
      "execution_count": 157,
      "outputs": [
        {
          "output_type": "execute_result",
          "data": {
            "text/plain": [
              "home_team     0\n",
              "away_team     0\n",
              "home_score    0\n",
              "away_score    0\n",
              "tournament    0\n",
              "city          0\n",
              "country       0\n",
              "neutral       0\n",
              "dtype: int64"
            ]
          },
          "metadata": {
            "tags": []
          },
          "execution_count": 157
        }
      ]
    },
    {
      "cell_type": "code",
      "metadata": {
        "id": "Gl1z8ogt3u-B"
      },
      "source": [
        "def who_win(data):\n",
        "  \n",
        "  con=[(data['home_score']==data['away_score']),(data['home_score']>data['away_score']),(data['home_score']<data['away_score'])]\n",
        "  val=[0,1,2]\n",
        "  val2=['empate',data['home_team'],data['away_team']]\n",
        "  data['result']=np.select(con,val)\n",
        "  data['resultado']=np.select(con,val2)\n"
      ],
      "execution_count": 158,
      "outputs": []
    },
    {
      "cell_type": "code",
      "metadata": {
        "id": "Alp5dQCLf64j"
      },
      "source": [
        "# create column with who win the plays\n",
        "who_win(df_away)\n",
        "who_win(df_home)"
      ],
      "execution_count": 159,
      "outputs": []
    },
    {
      "cell_type": "code",
      "metadata": {
        "colab": {
          "base_uri": "https://localhost:8080/",
          "height": 545
        },
        "id": "vuDLAOcTaOuG",
        "outputId": "013dd663-122e-463a-b61f-f3d3ea15c007"
      },
      "source": [
        "df_away.tail(15)\n"
      ],
      "execution_count": 160,
      "outputs": [
        {
          "output_type": "execute_result",
          "data": {
            "text/html": [
              "<div>\n",
              "<style scoped>\n",
              "    .dataframe tbody tr th:only-of-type {\n",
              "        vertical-align: middle;\n",
              "    }\n",
              "\n",
              "    .dataframe tbody tr th {\n",
              "        vertical-align: top;\n",
              "    }\n",
              "\n",
              "    .dataframe thead th {\n",
              "        text-align: right;\n",
              "    }\n",
              "</style>\n",
              "<table border=\"1\" class=\"dataframe\">\n",
              "  <thead>\n",
              "    <tr style=\"text-align: right;\">\n",
              "      <th></th>\n",
              "      <th>home_team</th>\n",
              "      <th>away_team</th>\n",
              "      <th>home_score</th>\n",
              "      <th>away_score</th>\n",
              "      <th>tournament</th>\n",
              "      <th>city</th>\n",
              "      <th>country</th>\n",
              "      <th>neutral</th>\n",
              "      <th>result</th>\n",
              "      <th>resultado</th>\n",
              "    </tr>\n",
              "    <tr>\n",
              "      <th>date</th>\n",
              "      <th></th>\n",
              "      <th></th>\n",
              "      <th></th>\n",
              "      <th></th>\n",
              "      <th></th>\n",
              "      <th></th>\n",
              "      <th></th>\n",
              "      <th></th>\n",
              "      <th></th>\n",
              "      <th></th>\n",
              "    </tr>\n",
              "  </thead>\n",
              "  <tbody>\n",
              "    <tr>\n",
              "      <th>2016-06-04</th>\n",
              "      <td>Rwanda</td>\n",
              "      <td>Mozambique</td>\n",
              "      <td>2</td>\n",
              "      <td>3</td>\n",
              "      <td>African Cup of Nations qualification</td>\n",
              "      <td>Kigali</td>\n",
              "      <td>Rwanda</td>\n",
              "      <td>False</td>\n",
              "      <td>2</td>\n",
              "      <td>Mozambique</td>\n",
              "    </tr>\n",
              "    <tr>\n",
              "      <th>2016-06-19</th>\n",
              "      <td>DR Congo</td>\n",
              "      <td>Mozambique</td>\n",
              "      <td>1</td>\n",
              "      <td>0</td>\n",
              "      <td>COSAFA Cup</td>\n",
              "      <td>Windhoek</td>\n",
              "      <td>Namibia</td>\n",
              "      <td>True</td>\n",
              "      <td>1</td>\n",
              "      <td>DR Congo</td>\n",
              "    </tr>\n",
              "    <tr>\n",
              "      <th>2016-06-21</th>\n",
              "      <td>Namibia</td>\n",
              "      <td>Mozambique</td>\n",
              "      <td>3</td>\n",
              "      <td>0</td>\n",
              "      <td>COSAFA Cup</td>\n",
              "      <td>Windhoek</td>\n",
              "      <td>Namibia</td>\n",
              "      <td>False</td>\n",
              "      <td>1</td>\n",
              "      <td>Namibia</td>\n",
              "    </tr>\n",
              "    <tr>\n",
              "      <th>2016-10-09</th>\n",
              "      <td>Togo</td>\n",
              "      <td>Mozambique</td>\n",
              "      <td>2</td>\n",
              "      <td>0</td>\n",
              "      <td>Friendly</td>\n",
              "      <td>Lomé</td>\n",
              "      <td>Togo</td>\n",
              "      <td>False</td>\n",
              "      <td>1</td>\n",
              "      <td>Togo</td>\n",
              "    </tr>\n",
              "    <tr>\n",
              "      <th>2016-11-12</th>\n",
              "      <td>Kenya</td>\n",
              "      <td>Mozambique</td>\n",
              "      <td>1</td>\n",
              "      <td>0</td>\n",
              "      <td>Friendly</td>\n",
              "      <td>Nairobi</td>\n",
              "      <td>Kenya</td>\n",
              "      <td>False</td>\n",
              "      <td>1</td>\n",
              "      <td>Kenya</td>\n",
              "    </tr>\n",
              "    <tr>\n",
              "      <th>2017-06-10</th>\n",
              "      <td>Zambia</td>\n",
              "      <td>Mozambique</td>\n",
              "      <td>0</td>\n",
              "      <td>1</td>\n",
              "      <td>African Cup of Nations qualification</td>\n",
              "      <td>Ndola</td>\n",
              "      <td>Zambia</td>\n",
              "      <td>False</td>\n",
              "      <td>2</td>\n",
              "      <td>Mozambique</td>\n",
              "    </tr>\n",
              "    <tr>\n",
              "      <th>2017-06-28</th>\n",
              "      <td>Seychelles</td>\n",
              "      <td>Mozambique</td>\n",
              "      <td>1</td>\n",
              "      <td>2</td>\n",
              "      <td>COSAFA Cup</td>\n",
              "      <td>Rustenburg</td>\n",
              "      <td>South Africa</td>\n",
              "      <td>True</td>\n",
              "      <td>2</td>\n",
              "      <td>Mozambique</td>\n",
              "    </tr>\n",
              "    <tr>\n",
              "      <th>2017-07-16</th>\n",
              "      <td>Madagascar</td>\n",
              "      <td>Mozambique</td>\n",
              "      <td>2</td>\n",
              "      <td>2</td>\n",
              "      <td>African Nations Championship</td>\n",
              "      <td>Antananarivo</td>\n",
              "      <td>Madagascar</td>\n",
              "      <td>False</td>\n",
              "      <td>0</td>\n",
              "      <td>empate</td>\n",
              "    </tr>\n",
              "    <tr>\n",
              "      <th>2018-05-27</th>\n",
              "      <td>Madagascar</td>\n",
              "      <td>Mozambique</td>\n",
              "      <td>2</td>\n",
              "      <td>1</td>\n",
              "      <td>COSAFA Cup</td>\n",
              "      <td>Polokwane</td>\n",
              "      <td>South Africa</td>\n",
              "      <td>True</td>\n",
              "      <td>1</td>\n",
              "      <td>Madagascar</td>\n",
              "    </tr>\n",
              "    <tr>\n",
              "      <th>2018-05-29</th>\n",
              "      <td>Comoros</td>\n",
              "      <td>Mozambique</td>\n",
              "      <td>0</td>\n",
              "      <td>3</td>\n",
              "      <td>COSAFA Cup</td>\n",
              "      <td>Polokwane</td>\n",
              "      <td>South Africa</td>\n",
              "      <td>True</td>\n",
              "      <td>2</td>\n",
              "      <td>Mozambique</td>\n",
              "    </tr>\n",
              "    <tr>\n",
              "      <th>2019-05-28</th>\n",
              "      <td>Seychelles</td>\n",
              "      <td>Mozambique</td>\n",
              "      <td>0</td>\n",
              "      <td>0</td>\n",
              "      <td>COSAFA Cup</td>\n",
              "      <td>Durban</td>\n",
              "      <td>South Africa</td>\n",
              "      <td>True</td>\n",
              "      <td>0</td>\n",
              "      <td>empate</td>\n",
              "    </tr>\n",
              "    <tr>\n",
              "      <th>2019-07-28</th>\n",
              "      <td>Madagascar</td>\n",
              "      <td>Mozambique</td>\n",
              "      <td>1</td>\n",
              "      <td>0</td>\n",
              "      <td>African Nations Championship qualification</td>\n",
              "      <td>Antananarivo</td>\n",
              "      <td>Madagascar</td>\n",
              "      <td>False</td>\n",
              "      <td>1</td>\n",
              "      <td>Madagascar</td>\n",
              "    </tr>\n",
              "    <tr>\n",
              "      <th>2019-09-04</th>\n",
              "      <td>Mauritius</td>\n",
              "      <td>Mozambique</td>\n",
              "      <td>0</td>\n",
              "      <td>1</td>\n",
              "      <td>FIFA World Cup qualification</td>\n",
              "      <td>Belle Vue Maurel</td>\n",
              "      <td>Mauritius</td>\n",
              "      <td>False</td>\n",
              "      <td>2</td>\n",
              "      <td>Mozambique</td>\n",
              "    </tr>\n",
              "    <tr>\n",
              "      <th>2019-10-13</th>\n",
              "      <td>Kenya</td>\n",
              "      <td>Mozambique</td>\n",
              "      <td>0</td>\n",
              "      <td>1</td>\n",
              "      <td>Friendly</td>\n",
              "      <td>Kenya</td>\n",
              "      <td>Kenya</td>\n",
              "      <td>False</td>\n",
              "      <td>2</td>\n",
              "      <td>Mozambique</td>\n",
              "    </tr>\n",
              "    <tr>\n",
              "      <th>2019-11-18</th>\n",
              "      <td>Cape Verde</td>\n",
              "      <td>Mozambique</td>\n",
              "      <td>2</td>\n",
              "      <td>2</td>\n",
              "      <td>African Cup of Nations qualification</td>\n",
              "      <td>Praia</td>\n",
              "      <td>Cape Verde</td>\n",
              "      <td>False</td>\n",
              "      <td>0</td>\n",
              "      <td>empate</td>\n",
              "    </tr>\n",
              "  </tbody>\n",
              "</table>\n",
              "</div>"
            ],
            "text/plain": [
              "             home_team   away_team  home_score  away_score                                  tournament              city       country  neutral  result   resultado\n",
              "date                                                                                                                                                               \n",
              "2016-06-04      Rwanda  Mozambique           2           3        African Cup of Nations qualification            Kigali        Rwanda    False       2  Mozambique\n",
              "2016-06-19    DR Congo  Mozambique           1           0                                  COSAFA Cup          Windhoek       Namibia     True       1    DR Congo\n",
              "2016-06-21     Namibia  Mozambique           3           0                                  COSAFA Cup          Windhoek       Namibia    False       1     Namibia\n",
              "2016-10-09        Togo  Mozambique           2           0                                    Friendly              Lomé          Togo    False       1        Togo\n",
              "2016-11-12       Kenya  Mozambique           1           0                                    Friendly           Nairobi         Kenya    False       1       Kenya\n",
              "2017-06-10      Zambia  Mozambique           0           1        African Cup of Nations qualification             Ndola        Zambia    False       2  Mozambique\n",
              "2017-06-28  Seychelles  Mozambique           1           2                                  COSAFA Cup        Rustenburg  South Africa     True       2  Mozambique\n",
              "2017-07-16  Madagascar  Mozambique           2           2                African Nations Championship      Antananarivo    Madagascar    False       0      empate\n",
              "2018-05-27  Madagascar  Mozambique           2           1                                  COSAFA Cup         Polokwane  South Africa     True       1  Madagascar\n",
              "2018-05-29     Comoros  Mozambique           0           3                                  COSAFA Cup         Polokwane  South Africa     True       2  Mozambique\n",
              "2019-05-28  Seychelles  Mozambique           0           0                                  COSAFA Cup            Durban  South Africa     True       0      empate\n",
              "2019-07-28  Madagascar  Mozambique           1           0  African Nations Championship qualification      Antananarivo    Madagascar    False       1  Madagascar\n",
              "2019-09-04   Mauritius  Mozambique           0           1                FIFA World Cup qualification  Belle Vue Maurel     Mauritius    False       2  Mozambique\n",
              "2019-10-13       Kenya  Mozambique           0           1                                    Friendly             Kenya         Kenya    False       2  Mozambique\n",
              "2019-11-18  Cape Verde  Mozambique           2           2        African Cup of Nations qualification             Praia    Cape Verde    False       0      empate"
            ]
          },
          "metadata": {
            "tags": []
          },
          "execution_count": 160
        }
      ]
    },
    {
      "cell_type": "code",
      "metadata": {
        "colab": {
          "base_uri": "https://localhost:8080/"
        },
        "id": "kJGz0iNJaUm1",
        "outputId": "1859a231-232c-4c5b-a2db-38d0ef2ba21f"
      },
      "source": [
        "#Total de  Jogos em casa\n",
        "\n",
        "print(\"TOTAL DE PAERTIDAS EM CASA ATE OUTUBRO DE 2020: {}\".format(df_home.shape[0]))"
      ],
      "execution_count": 161,
      "outputs": [
        {
          "output_type": "stream",
          "text": [
            "TOTAL DE PAERTIDAS EM CASA ATE OUTUBRO DE 2020: 145\n"
          ],
          "name": "stdout"
        }
      ]
    },
    {
      "cell_type": "code",
      "metadata": {
        "colab": {
          "base_uri": "https://localhost:8080/"
        },
        "id": "wTUXWsdMe2AG",
        "outputId": "e281ab93-9c09-4b7a-8aa6-1b641c80b3ce"
      },
      "source": [
        "#Total de  Jogos fora de casa\n",
        "\n",
        "print(\"TOTAL DE PAERTIDAS FORA DE CASA, ATE NOV DE 2019: {}\".format(df_away.shape[0]))"
      ],
      "execution_count": 162,
      "outputs": [
        {
          "output_type": "stream",
          "text": [
            "TOTAL DE PAERTIDAS FORA DE CASA, ATE NOV DE 2019: 160\n"
          ],
          "name": "stdout"
        }
      ]
    },
    {
      "cell_type": "code",
      "metadata": {
        "colab": {
          "base_uri": "https://localhost:8080/"
        },
        "id": "lcdDiMqtgioA",
        "outputId": "f90f2e5c-17b1-4d69-8b2d-819108d9fb3a"
      },
      "source": [
        "# JOGOS GANHOS EM CASA\n",
        "\n",
        "df_home['resultado'].value_counts()\n",
        "\n",
        "#Jogos ganhos em casa: 65\n",
        "#Jogos empatados em casa: 37"
      ],
      "execution_count": 163,
      "outputs": [
        {
          "output_type": "execute_result",
          "data": {
            "text/plain": [
              "Mozambique      65\n",
              "empate          37\n",
              "Zimbabwe         9\n",
              "Zambia           5\n",
              "Angola           4\n",
              "Malawi           3\n",
              "Botswana         2\n",
              "Senegal          2\n",
              "Madagascar       2\n",
              "Cuba             1\n",
              "Congo            1\n",
              "Cameroon         1\n",
              "Ghana            1\n",
              "South Africa     1\n",
              "Tanzania         1\n",
              "Nigeria          1\n",
              "Mali             1\n",
              "Guinea           1\n",
              "Rwanda           1\n",
              "Namibia          1\n",
              "Egypt            1\n",
              "DR Congo         1\n",
              "Ivory Coast      1\n",
              "Portugal         1\n",
              "Lesotho          1\n",
              "Name: resultado, dtype: int64"
            ]
          },
          "metadata": {
            "tags": []
          },
          "execution_count": 163
        }
      ]
    },
    {
      "cell_type": "code",
      "metadata": {
        "colab": {
          "base_uri": "https://localhost:8080/",
          "height": 926
        },
        "id": "iPOthWXkikwJ",
        "outputId": "8a7f597e-1b8f-467c-adda-8b55d6a1b695"
      },
      "source": [
        " plt.subplot(2,1,1)\n",
        "\n",
        " # Jogos ganhos em casa\n",
        "sns.countplot(x=\"resultado\", data=df_home)\n",
        "plt.ylabel('Vitorias em casa')\n",
        "plt.xlabel('Seleccao')\n",
        "plt.xticks( rotation = 40);\n",
        "\n",
        "\n",
        " plt.subplot(2,1,2)\n",
        " # Jogos ganhos fora de  casa\n",
        "sns.countplot(x=\"resultado\", data=df_away)\n",
        "plt.ylabel('Vitorias fora de casa')\n",
        "plt.xlabel('Seleccao')\n",
        "plt.xticks( rotation = 40);\n"
      ],
      "execution_count": 164,
      "outputs": [
        {
          "output_type": "display_data",
          "data": {
            "image/png": "[encoded data removed]",
            "text/plain": [
              "<Figure size 1800x1080 with 2 Axes>"
            ]
          },
          "metadata": {
            "tags": []
          }
        }
      ]
    },
    {
      "cell_type": "code",
      "metadata": {
        "id": "tLo7RIf6tnzW"
      },
      "source": [
        "df_home['resultado'].sample(10)"
      ],
      "execution_count": null,
      "outputs": []
    },
    {
      "cell_type": "code",
      "metadata": {
        "id": "Sim2RjEBur1m"
      },
      "source": [
        ""
      ],
      "execution_count": null,
      "outputs": []
    }
  ]
}